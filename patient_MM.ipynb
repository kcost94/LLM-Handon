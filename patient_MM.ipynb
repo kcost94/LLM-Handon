{
 "cells": [
  {
   "cell_type": "markdown",
   "metadata": {},
   "source": [
    "# Setup"
   ]
  },
  {
   "cell_type": "markdown",
   "metadata": {},
   "source": [
    "Put the API key in a .env that you don't push to git repo (you put it into .gitignore file)"
   ]
  },
  {
   "cell_type": "code",
   "execution_count": 8,
   "metadata": {},
   "outputs": [],
   "source": [
    "from openai import OpenAI\n",
    "import dotenv\n",
    "import os\n",
    "import re\n",
    "\n",
    "dotenv.load_dotenv()\n",
    "\n",
    "client = OpenAI()\n",
    "\n",
    "OPENAI_API_KEY = os.getenv(\"OPENAI_API_KEY\")"
   ]
  },
  {
   "cell_type": "code",
   "execution_count": null,
   "metadata": {},
   "outputs": [
    {
     "name": "stdout",
     "output_type": "stream",
     "text": [
      "The provided list contains a total of 100 cases.\n"
     ]
    }
   ],
   "source": [
    "def split_cases(input_text):\n",
    "    # Use regular expression to split the text at each occurrence of \"Case X:\"\n",
    "    cases = re.split(r'\\s*Case \\d+:\\s*', input_text)[1:]  # The [1:] removes the empty part before the first \"Case\"\n",
    "    return cases\n",
    "\n",
    "# Call the function to split the cases\n",
    "inputfile = open(\"./list.txt\",\"r\", encoding=\"latin-1\")\n",
    "i=\"\"\n",
    "for line in inputfile:\n",
    "    i+=line.strip()\n",
    "cases = split_cases(i)\n",
    " \n",
    "list_as_string = '@ '.join(map(str, cases))\n",
    "system_prompt = f\"Here is a list: {list_as_string}. the character @ is used to seperate cased. Please provide an analysis or summary of the list. Please remember the case number.\"\n",
    "#system_prompt = \"You are a fake patient encounter for a student of internal medicine doing his examination of the end of the course. He will ask questions, try to respond as you are his patient. History: A 34-year-old male accountant comes to the emergency department with acute chest pain. There is a previous history of occasional stabbing chest pain for 2 years. The current pain had come on 4 h earlier at 8 pm and has been persistent since then. It is central in position, with some radiation to both sides of the chest. It is not associated with shortness of breath or palpitations. The pain is relieved by sitting up and leaning forward. Two paracetamol tablets taken earlier at 9 pm did not make any difference to the pain. The previous chest pain had been occasional, lasting a second or two at a time and with no particular precipitating factors. It has usually been on the left side of the chest, although the position had varied. Two weeks previously he had an upper respiratory tract infection that lasted 4 days. This con- sisted of a sore throat, blocked nose, sneezing and a cough. His wife and two children were ill at the same time with similar symptoms but have been well since then. He has a history of migraine. In the family history his father had a myocardial infarction at the age of 51 years and was found to have a marginally high cholesterol level. His mother and two sisters, aged 36 and 38 years, are well. After his father’s infarct the accountant had his lipids measured; cholesterol was 5.1 mmol/L (desirable range, 5.5 mmol/L). He is a non-smoker who drinks 15 units of alcohol per week. Examination: His pulse rate is 75/min, blood pressure 124/78 mmHg. His temperature is 37.8°C. There is nothing abnormal to find in the cardiovascular and respiratory systems.\"\n",
    " \n",
    "user_query = \"Report the number of cases\"\n",
    "\n",
    "response = client.chat.completions.create(\n",
    "  model=\"gpt-4o-mini\",\n",
    "  messages=[\n",
    "    {\"role\": \"system\", \"content\": system_prompt},\n",
    "    {\"role\": \"user\", \"content\": user_query},\n",
    "  ],\n",
    "  max_tokens=1000\n",
    ")\n",
    "\n",
    "print(response.choices[0].message.content)"
   ]
  },
  {
   "cell_type": "code",
   "execution_count": null,
   "metadata": {},
   "outputs": [],
   "source": []
  }
 ],
 "metadata": {
  "kernelspec": {
   "display_name": "Python 3",
   "language": "python",
   "name": "python3"
  },
  "language_info": {
   "codemirror_mode": {
    "name": "ipython",
    "version": 3
   },
   "file_extension": ".py",
   "mimetype": "text/x-python",
   "name": "python",
   "nbconvert_exporter": "python",
   "pygments_lexer": "ipython3",
   "version": "3.12.1"
  }
 },
 "nbformat": 4,
 "nbformat_minor": 2
}
