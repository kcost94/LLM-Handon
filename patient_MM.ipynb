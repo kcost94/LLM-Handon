{
 "cells": [
  {
   "cell_type": "markdown",
   "metadata": {},
   "source": [
    "# Setup"
   ]
  },
  {
   "cell_type": "markdown",
   "metadata": {},
   "source": [
    "Put the API key in a .env that you don't push to git repo (you put it into .gitignore file)"
   ]
  },
  {
   "cell_type": "code",
   "execution_count": 8,
   "metadata": {},
   "outputs": [],
   "source": [
    "from openai import OpenAI\n",
    "import dotenv\n",
    "import os\n",
    "import re\n",
    "\n",
    "dotenv.load_dotenv()\n",
    "\n",
    "client = OpenAI()\n",
    "\n",
    "OPENAI_API_KEY = os.getenv(\"OPENAI_API_KEY\")"
   ]
  },
  {
   "cell_type": "code",
   "execution_count": 29,
   "metadata": {},
   "outputs": [
    {
     "name": "stdout",
     "output_type": "stream",
     "text": [
      "Based on the provided list, the most common diagnosis appears to be related to **hypertension** or **hypertensive crises**, which occur in various cases. Specifically, the conditions manifesting in cases related to this diagnosis are:\n",
      "\n",
      "1. **Acute renal failure due to hypertension:** Case 42.\n",
      "2. **Atrial fibrillation due to hypertension:** Case 83.\n",
      "3. **Hypertensive episodes and associated complications:** Case 37.\n",
      "4. **Secondary hypertension (possibly) due to other conditions, including renal disease:** Cases 58, 39, 84.\n",
      "\n",
      "While specific counts for conditions such as renal failure due to hypertension are mentioned, it is not elaborated upon for each case distinctly. However, hypertension can be indirectly responsible for several diagnoses when considering their complications (e.g., heart disease, stroke risk) in the detailed descriptions.\n",
      "\n",
      "In conclusion, the diagnosis of **hypertension** and its complications appear multiple times, particularly highlighted in **4 cases (37, 39, 42, 83)**. If you would like further information or specific details regarding other diagnoses mentioned in the list, please let me know.\n"
     ]
    }
   ],
   "source": [
    "def split_cases(input_text):\n",
    "    # Use regular expression to split the text at each occurrence of \"Case X:\"\n",
    "    cases = input_text.split(\"Case \")  # The [1:] removes the empty part before the first \"Case\"    \n",
    "    return cases\n",
    "\n",
    "# Call the function to split the cases\n",
    "inputfile = open(\"./list.txt\",\"r\", encoding=\"latin-1\")\n",
    "i=\"\"\n",
    "for line in inputfile:\n",
    "    i+=line.strip()\n",
    "cases = split_cases(i)\n",
    " \n",
    "list_as_string = '@ CASE '.join(map(str, cases))\n",
    "o = open(\"string.txt\",\"w\")\n",
    "o.write(list_as_string)\n",
    "\n",
    "system_prompt = f\"Here is a list: {list_as_string}. The character @ is used to seperate cases. Please provide an analysis or summary of the list. Please remember the case number.\"\n",
    "#system_prompt = \"You are a fake patient encounter for a student of internal medicine doing his examination of the end of the course. He will ask questions, try to respond as you are his patient. History: A 34-year-old male accountant comes to the emergency department with acute chest pain. There is a previous history of occasional stabbing chest pain for 2 years. The current pain had come on 4 h earlier at 8 pm and has been persistent since then. It is central in position, with some radiation to both sides of the chest. It is not associated with shortness of breath or palpitations. The pain is relieved by sitting up and leaning forward. Two paracetamol tablets taken earlier at 9 pm did not make any difference to the pain. The previous chest pain had been occasional, lasting a second or two at a time and with no particular precipitating factors. It has usually been on the left side of the chest, although the position had varied. Two weeks previously he had an upper respiratory tract infection that lasted 4 days. This con- sisted of a sore throat, blocked nose, sneezing and a cough. His wife and two children were ill at the same time with similar symptoms but have been well since then. He has a history of migraine. In the family history his father had a myocardial infarction at the age of 51 years and was found to have a marginally high cholesterol level. His mother and two sisters, aged 36 and 38 years, are well. After his father’s infarct the accountant had his lipids measured; cholesterol was 5.1 mmol/L (desirable range, 5.5 mmol/L). He is a non-smoker who drinks 15 units of alcohol per week. Examination: His pulse rate is 75/min, blood pressure 124/78 mmHg. His temperature is 37.8°C. There is nothing abnormal to find in the cardiovascular and respiratory systems.\"\n",
    " \n",
    "user_query = \"Report the most common diagnosis and the number of cases where this occurs\"\n",
    "\n",
    "response = client.chat.completions.create(\n",
    "  model=\"gpt-4o-mini\",\n",
    "  messages=[\n",
    "    {\"role\": \"system\", \"content\": system_prompt},\n",
    "    {\"role\": \"user\", \"content\": user_query},\n",
    "  ],\n",
    "  max_tokens=1000\n",
    ")\n",
    "\n",
    "print(response.choices[0].message.content)"
   ]
  },
  {
   "cell_type": "code",
   "execution_count": null,
   "metadata": {},
   "outputs": [],
   "source": []
  }
 ],
 "metadata": {
  "kernelspec": {
   "display_name": "Python 3",
   "language": "python",
   "name": "python3"
  },
  "language_info": {
   "codemirror_mode": {
    "name": "ipython",
    "version": 3
   },
   "file_extension": ".py",
   "mimetype": "text/x-python",
   "name": "python",
   "nbconvert_exporter": "python",
   "pygments_lexer": "ipython3",
   "version": "3.12.1"
  }
 },
 "nbformat": 4,
 "nbformat_minor": 2
}
